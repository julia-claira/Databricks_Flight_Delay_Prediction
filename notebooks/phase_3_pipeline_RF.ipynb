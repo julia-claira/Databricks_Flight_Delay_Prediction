{
 "cells": [
  {
   "cell_type": "markdown",
   "metadata": {
    "application/vnd.databricks.v1+cell": {
     "cellMetadata": {},
     "inputWidgets": {},
     "nuid": "1c2b29d7-5f1c-4943-967f-f1120163ffe8",
     "showTitle": false,
     "title": ""
    }
   },
   "source": [
    "\n",
    "# RandomForest Phase 3\n"
   ]
  },
  {
   "cell_type": "markdown",
   "metadata": {
    "application/vnd.databricks.v1+cell": {
     "cellMetadata": {
      "byteLimit": 2048000,
      "rowLimit": 10000
     },
     "inputWidgets": {},
     "nuid": "211f05e2-b6b7-4048-a373-e22973f48a71",
     "showTitle": false,
     "title": ""
    }
   },
   "source": [
    "#### 1. setup"
   ]
  },
  {
   "cell_type": "code",
   "execution_count": 0,
   "metadata": {
    "application/vnd.databricks.v1+cell": {
     "cellMetadata": {
      "byteLimit": 2048000,
      "rowLimit": 10000
     },
     "inputWidgets": {},
     "nuid": "abcec5f5-5585-4824-8e91-a43cfe3b3af7",
     "showTitle": false,
     "title": ""
    }
   },
   "outputs": [
    {
     "output_type": "display_data",
     "data": {
      "text/html": [
       "<style scoped>\n",
       "  .table-result-container {\n",
       "    max-height: 300px;\n",
       "    overflow: auto;\n",
       "  }\n",
       "  table, th, td {\n",
       "    border: 1px solid black;\n",
       "    border-collapse: collapse;\n",
       "  }\n",
       "  th, td {\n",
       "    padding: 5px;\n",
       "  }\n",
       "  th {\n",
       "    text-align: left;\n",
       "  }\n",
       "</style><div class='table-result-container'><table class='table-result'><thead style='background-color: white'><tr><th>path</th><th>name</th><th>size</th><th>modificationTime</th></tr></thead><tbody><tr><td>wasbs://261-prrjckaw-container@261prrjckaw.blob.core.windows.net/TP/</td><td>TP/</td><td>0</td><td>1702403305000</td></tr></tbody></table></div>"
      ]
     },
     "metadata": {
      "application/vnd.databricks.v1+output": {
       "addedWidgets": {},
       "aggData": [],
       "aggError": "",
       "aggOverflow": false,
       "aggSchema": [],
       "aggSeriesLimitReached": false,
       "aggType": "",
       "arguments": {},
       "columnCustomDisplayInfos": {},
       "data": [
        [
         "wasbs://261-prrjckaw-container@261prrjckaw.blob.core.windows.net/TP/",
         "TP/",
         0,
         1702403305000
        ]
       ],
       "datasetInfos": [],
       "dbfsResultPath": null,
       "isJsonSchema": true,
       "metadata": {},
       "overflow": false,
       "plotOptions": {
        "customPlotOptions": {},
        "displayType": "table",
        "pivotAggregation": null,
        "pivotColumns": null,
        "xColumns": null,
        "yColumns": null
       },
       "removedWidgets": [],
       "schema": [
        {
         "metadata": "{}",
         "name": "path",
         "type": "\"string\""
        },
        {
         "metadata": "{}",
         "name": "name",
         "type": "\"string\""
        },
        {
         "metadata": "{}",
         "name": "size",
         "type": "\"long\""
        },
        {
         "metadata": "{}",
         "name": "modificationTime",
         "type": "\"long\""
        }
       ],
       "type": "table"
      }
     },
     "output_type": "display_data"
    }
   ],
   "source": [
    "\n",
    "# The following blob storage is accessible to team members only (read and write)\n",
    "# access key is valid til TTL\n",
    "# after that you will need to create a new SAS key and authenticate access again via DataBrick command line\n",
    "blob_container = \"261-prrjckaw-container\"  # The name of your container created in https://portal.azure.com\n",
    "storage_account = \"261prrjckaw\"  # The name of your Storage account created in https://portal.azure.com\n",
    "secret_scope = \"261-project-scope\"  # The name of the scope created in your local computer using the Databricks CLI\n",
    "secret_key = \"261-project-key\"  # The name of the secret key created in your local computer using the Databricks CLI\n",
    "team_blob_url = f\"wasbs://{blob_container}@{storage_account}.blob.core.windows.net\"  # points to the root of your team storage bucket\n",
    "\n",
    "\n",
    "# the 261 course blob storage is mounted here.\n",
    "mids261_mount_path = \"/mnt/mids-w261\"\n",
    "\n",
    "# SAS Token: Grant the team limited access to Azure Storage resources\n",
    "spark.conf.set(\n",
    "    f\"fs.azure.sas.{blob_container}.{storage_account}.blob.core.windows.net\",\n",
    "    dbutils.secrets.get(scope=secret_scope, key=secret_key),\n",
    ")\n",
    "\n",
    "\n",
    "# see what's in the blob storage root folder\n",
    "display(dbutils.fs.ls(f\"{team_blob_url}\"))"
   ]
  },
  {
   "cell_type": "code",
   "execution_count": 0,
   "metadata": {
    "application/vnd.databricks.v1+cell": {
     "cellMetadata": {
      "byteLimit": 2048000,
      "rowLimit": 10000
     },
     "inputWidgets": {},
     "nuid": "5c27076a-f61c-4bcb-8ad0-9ee083a5d6dc",
     "showTitle": false,
     "title": ""
    }
   },
   "outputs": [],
   "source": [
    "import pyspark.sql.functions as F\n",
    "from pyspark.sql.functions import col, regexp_replace\n",
    "\n",
    "from pyspark.ml import Pipeline\n",
    "from pyspark.ml.evaluation import MulticlassClassificationEvaluator\n",
    "from pyspark.ml.classification import (\n",
    "    LogisticRegression,\n",
    "    RandomForestClassifier,\n",
    "    LinearSVC,\n",
    "    DecisionTreeClassifier,\n",
    "    GBTClassifier,\n",
    ")\n",
    "from pyspark.ml.feature import VectorAssembler, StandardScaler\n",
    "from pyspark.ml.tuning import ParamGridBuilder\n",
    "from pyspark.sql.types import FloatType\n",
    "from pyspark.sql.window import Window\n",
    "\n",
    "import numpy as np\n",
    "from pprint import pprint\n",
    "from copy import deepcopy"
   ]
  },
  {
   "cell_type": "markdown",
   "metadata": {
    "application/vnd.databricks.v1+cell": {
     "cellMetadata": {},
     "inputWidgets": {},
     "nuid": "1eed4a01-14cd-4d5e-8c9d-7ea1bb9e9ef4",
     "showTitle": false,
     "title": ""
    }
   },
   "source": [
    "#### 1a. Global Vars"
   ]
  },
  {
   "cell_type": "code",
   "execution_count": 0,
   "metadata": {
    "application/vnd.databricks.v1+cell": {
     "cellMetadata": {
      "byteLimit": 2048000,
      "rowLimit": 10000
     },
     "inputWidgets": {},
     "nuid": "18822a2b-b9b7-43f7-aa24-2f8401512b3a",
     "showTitle": false,
     "title": ""
    }
   },
   "outputs": [],
   "source": [
    "random_seed = 100\n",
    "\n",
    "raw_cols = [\n",
    "    \"STATION\",\n",
    "    \"DATE\",\n",
    "    \"LATITUDE\",\n",
    "    \"ELEVATION\",\n",
    "    \"LONGITUDE\",\n",
    "    \"HourlyAltimeterSetting\",\n",
    "    \"HourlyDewPointTemperature\",\n",
    "    \"HourlyDryBulbTemperature\",\n",
    "    \"HourlyPrecipitation\",\n",
    "    \"HourlyPresentWeatherType\",\n",
    "    \"HourlyPressureChange\",\n",
    "    \"HourlyPressureTendency\",\n",
    "    \"HourlyRelativeHumidity\",\n",
    "    \"HourlySkyConditions\",\n",
    "    \"HourlySeaLevelPressure\",\n",
    "    \"HourlyStationPressure\",\n",
    "    \"HourlyVisibility\",\n",
    "    \"HourlyWetBulbTemperature\",\n",
    "    \"HourlyWindDirection\",\n",
    "    \"HourlyWindGustSpeed\",\n",
    "    \"HourlyWindSpeed\",\n",
    "    #\"w_year\",\n",
    "    #\"w_month\",\n",
    "    #\"w_day\",\n",
    "    \"DAY_OF_MONTH\",\n",
    "    \"DAY_OF_WEEK\",\n",
    "    \"YEAR\",\n",
    "    \"FL_DATE\",\n",
    "    \"OP_CARRIER\",\n",
    "    #\"TAIL_NUM\",\n",
    "    #\"OP_CARRIER_FL_NUM\",\n",
    "    \"ORIGIN\",\n",
    "    #\"ORIGIN_CITY_NAME\",\n",
    "    #\"ORIGIN_STATE_NM\",\n",
    "    #\"ORIGIN_WAC\",\n",
    "    #\"DEST_AIRPORT_ID\",\n",
    "    \"DEST\",\n",
    "    #\"DEST_CITY_NAME\",\n",
    "    #\"DEST_STATE_NM\",\n",
    "    \"CRS_ARR_TIME\",\n",
    "    \"CRS_DEP_TIME\",\n",
    "    \"CRS_ELAPSED_TIME\",\n",
    "    \"DISTANCE\",\n",
    "    #\"DISTANCE_GROUP\",\n",
    "    \"DEP_DEL15\",\n",
    "    #\"station_id\",\n",
    "    #\"utc_departure\",\n",
    "    #\"airport_code\",\n",
    "    #\"before_utc_departure\",\n",
    "    #\"f_year\",\n",
    "    #\"f_month\",\n",
    "    #\"f_day\",\n",
    "    #\"time_distance\",\n",
    "    #\"rank\",\n",
    "    \"QUARTER\",\n",
    "    \"MONTH\",\n",
    "    \"RecentHourlyPrecipitationDelta\",\n",
    "    \"RecentHourlyRelativeHumidityDelta\",\n",
    "    \"HolidayTravel\",\n",
    "    \"ORIGIN_DELAY_SUM\",\n",
    "    \"TAIL_NUM_PREV_DELAY\",\n",
    "]\n",
    "\n",
    "\n",
    "feature_interact_columns = [\n",
    "    \"Precipitation_Carrier\",\n",
    "    \"Temperature_Month\",\n",
    "    \"WindSpeed_Origin\",\n",
    "    \"Visibility_OriginAirport\",\n",
    "    \"Precipitation_at_DepTime_and_Origin\",\n",
    "    \"Origin_CRS_DEP_TIME\",\n",
    "    \"Carrier_DayOfWeek\",\n",
    "    \"Month_CRS_DEP_TIME\",\n",
    "    \"Carrier_CRS_DEP_TIME\",\n",
    "    \"DayOfWeek_CRS_DEP_TIME\",\n",
    "]\n",
    "\n",
    "weather_interactions = [\n",
    "    \"WindSpeed_Visibility\",\n",
    "    \"DewPoint_Humidity\",\n",
    "    \"Temp_WindSpeed\",\n",
    "    \"PressureTendency_Altimeter\",\n",
    "    \"Visibility_SkyConditions\",\n",
    "    \"WindDir_GustSpeed\",\n",
    "    \"SeaLevel_StationPressure\",\n",
    "    \"Precipitation_WetBulbTemp\",\n",
    "    \"PressureChange_DewPoint\",\n",
    "    \"Humidity_Temperature\",\n",
    "]\n",
    "\n",
    "float_cols = [\n",
    "    \"DATE\",\n",
    "    \"LATITUDE\",\n",
    "    \"ELEVATION\",\n",
    "    \"LONGITUDE\",\n",
    "    \"CRS_ARR_TIME\",\n",
    "    \"CRS_DEP_TIME\",\n",
    "    \"QUARTER\",\n",
    "    \"MONTH\",\n",
    "    \"DAY_OF_MONTH\",\n",
    "    \"DAY_OF_WEEK\",\n",
    "    \"YEAR\",\n",
    "    \"FL_DATE\",\n",
    "    \"CRS_ELAPSED_TIME\",\n",
    "    \"DISTANCE\",\n",
    "    \"DEP_DEL15\",\n",
    "    \"HourlyAltimeterSetting\",\n",
    "    \"HourlyDewPointTemperature\",\n",
    "    \"HourlyDryBulbTemperature\",\n",
    "    \"HourlyPrecipitation\",\n",
    "    \"HourlyPresentWeatherType\",\n",
    "    \"HourlyPressureChange\",\n",
    "    \"HourlyPressureTendency\",\n",
    "    \"HourlyRelativeHumidity\",\n",
    "    \"HourlySkyConditions\",\n",
    "    \"HourlySeaLevelPressure\",\n",
    "    \"HourlyStationPressure\",\n",
    "    \"HourlyVisibility\",\n",
    "    \"HourlyWetBulbTemperature\",\n",
    "    \"HourlyWindDirection\",\n",
    "    \"HourlyWindGustSpeed\",\n",
    "    \"HourlyWindSpeed\",\n",
    "    #\"utc_departure\",\n",
    "    #\"before_utc_departure\",\n",
    "    #\"time_distance\",\n",
    "    \"RecentHourlyPrecipitationDelta\",\n",
    "    \"RecentHourlyRelativeHumidityDelta\",\n",
    "    \"ORIGIN_DELAY_SUM\",\n",
    "    \"TAIL_NUM_PREV_DELAY\",\n",
    "]\n",
    "\n",
    "cat_cols = [\n",
    "    \"STATION\",\n",
    "    \"OP_CARRIER\",\n",
    "    #\"TAIL_NUM\",\n",
    "    #\"OP_CARRIER_FL_NUM\",\n",
    "    \"ORIGIN\",\n",
    "    #\"ORIGIN_CITY_NAME\",\n",
    "    #\"ORIGIN_STATE_NM\",\n",
    "    #\"ORIGIN_WAC\",\n",
    "    #\"DEST_AIRPORT_ID\",\n",
    "    \"DEST\",\n",
    "    #\"DEST_CITY_NAME\",\n",
    "    #\"DEST_STATE_NM\",\n",
    "    #\"DISTANCE_GROUP\",\n",
    "    #\"station_id\",\n",
    "    #\"airport_code\",\n",
    "    #\"w_year\",\n",
    "    #\"w_month\",\n",
    "    #\"w_day\",\n",
    "    #\"f_year\",\n",
    "    #\"f_month\",\n",
    "    #\"f_day\",\n",
    "    #\"rank\",\n",
    "    \"HolidayTravel\",\n",
    "]\n",
    "\n",
    "float_cols_no_y = [column for column in float_cols if column != \"DEP_DEL15\"] \n",
    "cat_cols_mean = [column + \"_mean\" for column in cat_cols]\n",
    "\n",
    "final_cols = (\n",
    "    cat_cols_mean + float_cols_no_y + weather_interactions + feature_interact_columns\n",
    ")"
   ]
  },
  {
   "cell_type": "markdown",
   "metadata": {
    "application/vnd.databricks.v1+cell": {
     "cellMetadata": {},
     "inputWidgets": {},
     "nuid": "73949826-1987-4a95-b376-fdf866cf028e",
     "showTitle": false,
     "title": ""
    }
   },
   "source": [
    "#### 1b. Helper Functions"
   ]
  },
  {
   "cell_type": "code",
   "execution_count": 0,
   "metadata": {
    "application/vnd.databricks.v1+cell": {
     "cellMetadata": {
      "byteLimit": 2048000,
      "rowLimit": 10000
     },
     "inputWidgets": {},
     "nuid": "06d65ddd-eb50-4f9d-83d4-3a8c19011771",
     "showTitle": false,
     "title": ""
    }
   },
   "outputs": [],
   "source": [
    "# DOWNSAMPLING\n",
    "random_seed = 100\n",
    "\n",
    "def downsample_majority_class(df, label_col, majority_label, minority_label, order_by_cols, random_seed):\n",
    "    # count number of instances in each class\n",
    "    major_df = df.filter(col(label_col) == majority_label)\n",
    "    minor_df = df.filter(col(label_col) == minority_label)\n",
    "    ratio = major_df.count() / minor_df.count()\n",
    "    sampled_majority_df = major_df.sample(False, 1.0 / ratio, seed=random_seed)\n",
    "\n",
    "    sampled_df = sampled_majority_df.unionAll(minor_df)\n",
    "    return sampled_df.orderBy(order_by_cols)"
   ]
  },
  {
   "cell_type": "code",
   "execution_count": 0,
   "metadata": {
    "application/vnd.databricks.v1+cell": {
     "cellMetadata": {
      "byteLimit": 2048000,
      "rowLimit": 10000
     },
     "inputWidgets": {},
     "nuid": "e1c6cc8c-c657-4144-9bc6-ec10bcf3d841",
     "showTitle": false,
     "title": ""
    }
   },
   "outputs": [],
   "source": [
    "# FEATURE ENGINEERING\n",
    "\n",
    "# ------------------------------------------------------------------------------------------------------------\n",
    "# ------------------------------------------------------------------------------------------------------------\n",
    "# Mean encode training data and apply to validatioon\n",
    "def mean_encoding(train_df, val_df, cat_cols):\n",
    "    mappers = {}\n",
    "\n",
    "    for colm in cat_cols:\n",
    "        # Create the mapper using training data\n",
    "        mapper = train_df.groupBy(colm).agg(F.mean(\"DEP_DEL15\").alias(\"mean\")).collect()\n",
    "        mappers[colm] = {row[colm]: row[\"mean\"] for row in mapper}\n",
    "\n",
    "        # Broadcast the mapper\n",
    "        broadcasted_mapper = spark.sparkContext.broadcast(mappers[colm])\n",
    "\n",
    "        # Map function\n",
    "        map_udf = F.udf(\n",
    "            lambda category: broadcasted_mapper.value.get(category, 0), FloatType()\n",
    "        )\n",
    "\n",
    "        # Apply mapper to both training and validation data\n",
    "        train_df = train_df.withColumn(colm + \"_mean\", map_udf(F.col(colm)))\n",
    "        val_df = val_df.withColumn(colm + \"_mean\", map_udf(F.col(colm)))\n",
    "\n",
    "    return train_df, val_df, mappers\n",
    "\n",
    "\n",
    "# ------------------------------------------------------------------------------------------------------------\n",
    "# ------------------------------------------------------------------------------------------------------------\n",
    "# cast columns\n",
    "def cast_columns(df, float_cols, cat_cols, cat_cols_mean, float_cols_no_y):\n",
    "\n",
    "    # Iterate over each column and replace 'T' with 0.001 for columns containing 'Hourly'\n",
    "    for col_name in df.columns:\n",
    "        if \"Hourly\" in col_name:\n",
    "            df = df.withColumn(\n",
    "                col_name,\n",
    "                F.when(F.col(col_name) == \"T\", 0.001).otherwise(F.col(col_name)),\n",
    "            )\n",
    "\n",
    "    # Prep dates to become numbers\n",
    "    df = (\n",
    "        df.withColumn(\"FL_DATE\", regexp_replace(\"FL_DATE\", \"-\", \"\").cast(FloatType()))\n",
    "        .withColumn(\"DATE\", regexp_replace(\"DATE\", \"-\", \"\"))\n",
    "        .withColumn(\"DATE\", regexp_replace(\"DATE\", \"T\", \"\"))\n",
    "        .withColumn(\"DATE\", regexp_replace(\"DATE\", \":\", \"\").cast(FloatType()))\n",
    "    )\n",
    "    # Cast float columns to float type\n",
    "    for float_col in float_cols:\n",
    "        df = df.withColumn(float_col, col(float_col).cast(\"float\"))\n",
    "\n",
    "    # Feed forward populating of nulls\n",
    "    window = (\n",
    "        Window.partitionBy(\"STATION\")\n",
    "        .orderBy(\"DATE\")\n",
    "        .rowsBetween(Window.unboundedPreceding, Window.currentRow)\n",
    "    )\n",
    "\n",
    "    # Fill null values in numerical columns with 0\n",
    "    for c in float_cols:\n",
    "        if c == \"DEP_DEL15\":  # !!!!!!add if statement if it is also cancelled!!!!!!!!\n",
    "            df = df.na.fill({c: 1})\n",
    "        else:\n",
    "            df = df.withColumn(c, F.last(col(c), ignorenulls=True).over(window))\n",
    "\n",
    "    new_columns = cat_cols_mean + float_cols\n",
    "    for c in new_columns:\n",
    "        df = df.na.fill({c: 0.0})\n",
    "\n",
    "    return df\n",
    "\n",
    "\n",
    "# ------------------------------------------------------------------------------------------------------------\n",
    "# ------------------------------------------------------------------------------------------------------------\n",
    "# create interactions\n",
    "def create_interactions(df):\n",
    "    df = df.withColumns(\n",
    "        {\n",
    "            \"DayOfWeek_CRS_DEP_TIME\": col(\"DAY_OF_WEEK\") * col(\"CRS_DEP_TIME\"),\n",
    "            \"Carrier_CRS_DEP_TIME\": col(\"OP_CARRIER_mean\") * col(\"CRS_DEP_TIME\"),\n",
    "            \"Month_CRS_DEP_TIME\": col(\"MONTH\") * col(\"CRS_DEP_TIME\"),\n",
    "            \"Carrier_DayOfWeek\": col(\"OP_CARRIER_mean\") * col(\"DAY_OF_WEEK\"),\n",
    "            \"Origin_CRS_DEP_TIME\": col(\"ORIGIN_mean\") * col(\"CRS_DEP_TIME\"),\n",
    "            \"Precipitation_at_DepTime_and_Origin\": col(\"HourlyPrecipitation\") * col(\"CRS_DEP_TIME\") * col(\"ORIGIN_mean\"),\n",
    "            \"Visibility_OriginAirport\": col(\"HourlyVisibility\") * col(\"ORIGIN_mean\"),\n",
    "            \"WindSpeed_Origin\": col(\"HourlyWindSpeed\") * col(\"ORIGIN_mean\"),\n",
    "            \"Temperature_Month\": col(\"HourlyDryBulbTemperature\") * col(\"MONTH\"),\n",
    "            \"Precipitation_Carrier\": col(\"HourlyPrecipitation\") * col(\"OP_CARRIER_mean\"),\n",
    "            \"WindSpeed_Visibility\": col(\"HourlyWindSpeed\") * col(\"HourlyVisibility\"),\n",
    "            \"DewPoint_Humidity\": col(\"HourlyDewPointTemperature\") * col(\"HourlyRelativeHumidity\"),\n",
    "            \"Temp_WindSpeed\": col(\"HourlyDryBulbTemperature\") * col(\"HourlyWindSpeed\"),\n",
    "            \"PressureTendency_Altimeter\": col(\"HourlyPressureTendency\") * col(\"HourlyAltimeterSetting\"),\n",
    "            \"Visibility_SkyConditions\": col(\"HourlyVisibility\") * col(\"HourlySkyConditions\"),\n",
    "            \"WindDir_GustSpeed\": col(\"HourlyWindDirection\") * col(\"HourlyWindGustSpeed\"),\n",
    "            \"SeaLevel_StationPressure\": col(\"HourlySeaLevelPressure\") * col(\"HourlyStationPressure\"),\n",
    "            \"Precipitation_WetBulbTemp\": col(\"HourlyPrecipitation\") * col(\"HourlyWetBulbTemperature\"),\n",
    "            \"PressureChange_DewPoint\": col(\"HourlyPressureChange\") * col(\"HourlyDewPointTemperature\"),\n",
    "            \"Humidity_Temperature\": col(\"HourlyRelativeHumidity\") * col(\"HourlyDryBulbTemperature\"),\n",
    "        }\n",
    "    )\n",
    "    return df"
   ]
  },
  {
   "cell_type": "code",
   "execution_count": 0,
   "metadata": {
    "application/vnd.databricks.v1+cell": {
     "cellMetadata": {
      "byteLimit": 2048000,
      "rowLimit": 10000
     },
     "inputWidgets": {},
     "nuid": "09594741-1691-4866-b3df-3166b213f1ac",
     "showTitle": false,
     "title": ""
    }
   },
   "outputs": [],
   "source": [
    "#PIPELINE\n",
    "\n",
    "def build_pipeline(model):\n",
    "    assembler = VectorAssembler(inputCols=final_cols, outputCol=\"features\")\n",
    "    scaler = StandardScaler(\n",
    "        inputCol=\"features\", outputCol=\"scaledFeatures\", withStd=True, withMean=True\n",
    "    )\n",
    "    return Pipeline(stages=[assembler, scaler, model])"
   ]
  },
  {
   "cell_type": "code",
   "execution_count": 0,
   "metadata": {
    "application/vnd.databricks.v1+cell": {
     "cellMetadata": {
      "byteLimit": 2048000,
      "rowLimit": 10000
     },
     "inputWidgets": {},
     "nuid": "56d52b94-62ba-4fd2-adad-40a33e6de164",
     "showTitle": false,
     "title": ""
    }
   },
   "outputs": [],
   "source": [
    "# EVALUATION\n",
    "metric_evaluators = {\n",
    "    \"precision\": MulticlassClassificationEvaluator(\n",
    "        labelCol=\"DEP_DEL15\", predictionCol=\"prediction\", metricName=\"precisionByLabel\"\n",
    "    ),\n",
    "    \"recall\": MulticlassClassificationEvaluator(\n",
    "        labelCol=\"DEP_DEL15\", predictionCol=\"prediction\", metricName=\"recallByLabel\"\n",
    "    ),\n",
    "    \"f2\": MulticlassClassificationEvaluator(\n",
    "        labelCol=\"DEP_DEL15\",\n",
    "        predictionCol=\"prediction\",\n",
    "        metricName=\"fMeasureByLabel\",\n",
    "        beta=2.0,\n",
    "    ),\n",
    "}\n",
    "\n",
    "\n",
    "def evaluate(predictions):\n",
    "    evaluation_metric = {}\n",
    "    for metric_name, evaluator in metric_evaluators.items():\n",
    "        evaluation_metric[metric_name] = evaluator.evaluate(predictions)\n",
    "    return evaluation_metric\n",
    "\n",
    "\n",
    "def avg_of_metrics(metric_list, decay=0.1):\n",
    "    # calculate exponential weights per fold\n",
    "    weights = list(reversed(np.exp(-decay * np.arange(len(metric_list)))))\n",
    "\n",
    "    avg_metric = {\n",
    "        \"train\": {metric_name: 0 for metric_name in metric_evaluators.keys()},\n",
    "        \"val\": {metric_name: 0 for metric_name in metric_evaluators.keys()},\n",
    "    }\n",
    "    for i,metric in enumerate(metric_list):\n",
    "        for df_type in [\"train\", \"val\"]:\n",
    "            for metric_name in metric_evaluators.keys():\n",
    "                avg_metric[df_type][metric_name] += metric[df_type][metric_name] * weights[i]\n",
    "\n",
    "    for df_type in [\"train\", \"val\"]:\n",
    "        for metric_name in metric_evaluators.keys():\n",
    "            avg_metric[df_type][metric_name] /= sum(weights)\n",
    "    return avg_metric"
   ]
  },
  {
   "cell_type": "code",
   "execution_count": 0,
   "metadata": {
    "application/vnd.databricks.v1+cell": {
     "cellMetadata": {
      "byteLimit": 2048000,
      "rowLimit": 10000
     },
     "inputWidgets": {},
     "nuid": "ab6cb03e-f54a-4096-a17d-a8b374afe1c0",
     "showTitle": false,
     "title": ""
    }
   },
   "outputs": [],
   "source": [
    "# SIMPLE VALIDATION\n",
    "def simple_validate(pipeline, train, val, split_ratio=0.8):\n",
    "    model = pipeline.fit(train)\n",
    "    return {\n",
    "        \"train\": evaluate(model.transform(train)),\n",
    "        \"val\": evaluate(model.transform(val)),\n",
    "    }"
   ]
  },
  {
   "cell_type": "code",
   "execution_count": 0,
   "metadata": {
    "application/vnd.databricks.v1+cell": {
     "cellMetadata": {
      "byteLimit": 2048000,
      "rowLimit": 10000
     },
     "inputWidgets": {},
     "nuid": "8407fb91-70b2-4e25-9e14-bd946b30ee56",
     "showTitle": false,
     "title": ""
    }
   },
   "outputs": [],
   "source": [
    "# FINAL VALIDATION\n",
    "def final_validate(pipeline, train, val):\n",
    "    # downsample train data\n",
    "    order_by_cols = [\"DATE\", \"CRS_DEP_TIME\"]\n",
    "    train = downsample_majority_class(train, \"DEP_DEL15\", 0, 1, order_by_cols, random_seed)\n",
    "\n",
    "    #mean_encoding\n",
    "    train, val, mapper = mean_encoding(train, val, cat_cols)\n",
    "\n",
    "    # cast columns\n",
    "    train = cast_columns(train, float_cols, cat_cols, cat_cols_mean, float_cols_no_y)\n",
    "    val = cast_columns(val, float_cols, cat_cols,cat_cols_mean, float_cols_no_y)\n",
    "    \n",
    "    # create interactions\n",
    "    train = create_interactions(train)\n",
    "    val = create_interactions(val)\n",
    "\n",
    "    #!!!!!!!ADD CHECKPOINT STEP HERE FOR TRAIN AND VAL DFs!!!!!!!!\n",
    "    model_name = str(pipeline.getStages()[-1]).split('_')[0]\n",
    "    final_model_name = f\"{model_name}-final\"\n",
    "    train.write.partitionBy(\"YEAR\",\"QUARTER\",\"MONTH\").parquet(f\"{team_blob_url}/TP/checkpoint/{final_model_name}\", mode='overwrite')\n",
    "    train = spark.read.parquet(f\"{team_blob_url}/TP/checkpoint/{final_model_name}\")\n",
    "\n",
    "    model = pipeline.fit(train)\n",
    "    return {\n",
    "        \"train\": evaluate(model.transform(train)),\n",
    "        \"val\": evaluate(model.transform(val)),\n",
    "    }"
   ]
  },
  {
   "cell_type": "code",
   "execution_count": 0,
   "metadata": {
    "application/vnd.databricks.v1+cell": {
     "cellMetadata": {
      "byteLimit": 2048000,
      "rowLimit": 10000
     },
     "inputWidgets": {},
     "nuid": "1d399e28-a751-419c-bf20-acda4e16b25c",
     "showTitle": false,
     "title": ""
    }
   },
   "outputs": [],
   "source": [
    "# CROSS-VALIDATION\n",
    "\n",
    "def cross_validate(pipeline, df, folds=4):\n",
    "    total = df.count()\n",
    "    fold_size = total // folds\n",
    "\n",
    "    metrics = []\n",
    "    models = []\n",
    "\n",
    "    model_name = str(pipeline.getStages()[-1]).split('_')[0]\n",
    "    for i in range(folds-1):\n",
    "        cv_model_name = f\"{model_name}-fold-{i + 1}\"\n",
    "        start_index = i * fold_size\n",
    "        end_index = start_index + fold_size if i < folds - 1 else total\n",
    "        train_size = int((end_index - start_index) * 0.8)\n",
    "        val_size = (end_index - start_index) - train_size\n",
    "\n",
    "        #train/val split\n",
    "        train = df.offset(start_index).limit(train_size)\n",
    "        val = df.offset(start_index + train_size).limit(end_index - (start_index + train_size))\n",
    "\n",
    "        # downsample train data\n",
    "        order_by_cols = [\"DATE\", \"CRS_DEP_TIME\"]\n",
    "        train = downsample_majority_class(train, \"DEP_DEL15\", 0, 1, order_by_cols, random_seed)\n",
    "\n",
    "        #mean_encoding\n",
    "        train, val, mapper = mean_encoding(train, val, cat_cols)\n",
    "\n",
    "        # cast columns\n",
    "        train = cast_columns(train, float_cols, cat_cols, cat_cols_mean, float_cols_no_y)\n",
    "        val = cast_columns(val, float_cols, cat_cols,cat_cols_mean, float_cols_no_y)\n",
    "        \n",
    "        # create interactions\n",
    "        train = create_interactions(train)\n",
    "        val = create_interactions(val)\n",
    "\n",
    "        #!!!!!!!ADD CHECKPOINT STEP HERE FOR TRAIN AND VAL DFs!!!!!!!!\n",
    "        train.write.partitionBy(\"YEAR\",\"QUARTER\",\"MONTH\").parquet(f\"{team_blob_url}/TP/checkpoint/{cv_model_name}\", mode='overwrite')\n",
    "        train = spark.read.parquet(f\"{team_blob_url}/TP/checkpoint/{cv_model_name}\")\n",
    "\n",
    "        model = pipeline.fit(train)\n",
    "        models.append(model)\n",
    "        metrics.append({\"train\": evaluate(model.transform(train)),\n",
    "                        \"val\": evaluate(model.transform(val)),})\n",
    "\n",
    "    return metrics, avg_of_metrics(metrics), models"
   ]
  },
  {
   "cell_type": "code",
   "execution_count": 0,
   "metadata": {
    "application/vnd.databricks.v1+cell": {
     "cellMetadata": {
      "byteLimit": 2048000,
      "rowLimit": 10000
     },
     "inputWidgets": {},
     "nuid": "e6124b6b-38bc-401b-abc4-ab35fa22ecf4",
     "showTitle": false,
     "title": ""
    }
   },
   "outputs": [],
   "source": [
    "#GRID-SEARCH\n",
    "\n",
    "success_metric = \"f2\"\n",
    "\n",
    "def grid_search(\n",
    "    model_class,\n",
    "    param_grid,\n",
    "    train,\n",
    "    val=None,\n",
    "    split_ratio=0.8,  # missing cv_folds will lead to simple validation which uses this train-val split ratio\n",
    "    cv_folds=None,  # needed only for cross-validation\n",
    "    decay=0.1,\n",
    "    ):\n",
    "    # initialize these to store the diff metrics\n",
    "    best_hyper_params = None\n",
    "    best_metrics = {\n",
    "        df_type: {\n",
    "            metric_name: -float(\"inf\") for metric_name in metric_evaluators.keys()\n",
    "        }\n",
    "        for df_type in [\"train\", \"val\"]\n",
    "    }\n",
    "    results = []\n",
    "\n",
    "    for params in param_grid:\n",
    "        # print(f\"params: {params}\")\n",
    "        hyper_params = {k.name: v for k, v in params.items()}\n",
    "        print(f\"\\nfor hyper_params: \\n{hyper_params}\")\n",
    "\n",
    "        # build actual model\n",
    "        actual_model = model_class(\n",
    "            featuresCol=\"scaledFeatures\", labelCol=\"DEP_DEL15\", **hyper_params\n",
    "        )\n",
    "        # build pipeline with model\n",
    "        model_pipeline = build_pipeline(actual_model)\n",
    "        # call simple/cross validate\n",
    "        print(\"Attempting evaluation\")\n",
    "        if cv_folds is None:\n",
    "            cur_metrics = simple_validate(model_pipeline, train, val, split_ratio)\n",
    "        else:\n",
    "            cur_metrics, weighted_avg, _ = cross_validate(model_pipeline, train, cv_folds)\n",
    "        print(\"Completed evaluation\")\n",
    "\n",
    "        # get best hyper-params best of f1\n",
    "        if weighted_avg[\"val\"][success_metric] > best_metrics[\"val\"][success_metric]:\n",
    "            best_metrics = weighted_avg\n",
    "            best_hyper_params = params\n",
    "\n",
    "        result = {}\n",
    "        result.update(hyper_params)\n",
    "        result.update(weighted_avg)\n",
    "        results.append(result)\n",
    "\n",
    "    print(\"Best Model Parameters:\", best_hyper_params)\n",
    "    print(\"Best Model Evaluation:\", best_metrics)\n",
    "    return best_hyper_params, best_metrics, results"
   ]
  },
  {
   "cell_type": "markdown",
   "metadata": {
    "application/vnd.databricks.v1+cell": {
     "cellMetadata": {
      "byteLimit": 2048000,
      "rowLimit": 10000
     },
     "inputWidgets": {},
     "nuid": "874b0cac-3d2c-4e2d-92aa-7153cfe0f2ca",
     "showTitle": false,
     "title": ""
    }
   },
   "source": [
    "#### 2. load in dataset"
   ]
  },
  {
   "cell_type": "code",
   "execution_count": 0,
   "metadata": {
    "application/vnd.databricks.v1+cell": {
     "cellMetadata": {
      "byteLimit": 2048000,
      "rowLimit": 10000
     },
     "inputWidgets": {},
     "nuid": "4528da2a-8be4-442a-96d2-883f594517eb",
     "showTitle": false,
     "title": ""
    }
   },
   "outputs": [],
   "source": [
    "# save `blind_5yr_df` for last test after final model is chosen and all tinkering is complete\n",
    "# blind_5yr_df = spark.read.parquet(f\"{team_blob_url}/TP/phase3data/five_year_joined_df\".filter((col(\"YEAR\") == \"2019\"))\n",
    "\n",
    "train_5yr_df = spark.read.parquet(f\"{team_blob_url}/TP/phase3data/five_year_joined_df\")\\\n",
    "    .filter((col(\"YEAR\").isin(\"2015\", \"2016\", \"2017\"))|\n",
    "            ((col(\"YEAR\").isin(\"2018\")) & (col(\"MONTH\").isin(\"1\", \"2\", \"3\", \"4\"))))\\\n",
    "    .select(raw_cols)\n",
    "train_5yr_df = train_5yr_df.withColumn(\"DEP_DEL15\", col(\"DEP_DEL15\").cast(\"int\"))\n",
    "\n",
    "test_blind_5yr_df = spark.read.parquet(f\"{team_blob_url}/TP/phase3data/five_year_joined_df\")\\\n",
    "    .filter((col(\"YEAR\") == \"2018\") & ~(col(\"MONTH\").isin(\"1\", \"2\", \"3\", \"4\")))\\\n",
    "    .select(raw_cols)\n",
    "test_blind_5yr_df = test_blind_5yr_df.withColumn(\"DEP_DEL15\", col(\"DEP_DEL15\").cast(\"int\"))\n"
   ]
  },
  {
   "cell_type": "markdown",
   "metadata": {
    "application/vnd.databricks.v1+cell": {
     "cellMetadata": {},
     "inputWidgets": {},
     "nuid": "cbc385a4-4830-4a0e-9f0a-f408ce0b42f0",
     "showTitle": false,
     "title": ""
    }
   },
   "source": [
    "#### 2b. add airport-size column"
   ]
  },
  {
   "cell_type": "code",
   "execution_count": 0,
   "metadata": {
    "application/vnd.databricks.v1+cell": {
     "cellMetadata": {
      "byteLimit": 2048000,
      "rowLimit": 10000
     },
     "inputWidgets": {},
     "nuid": "f76cbc8b-21e5-4040-b70a-46b9c50101db",
     "showTitle": false,
     "title": ""
    }
   },
   "outputs": [],
   "source": [
    "\n",
    "\n",
    "#Creates a new column that splits airport of origin into five size buckets - features seem to have different importances depending on size\n",
    "from pyspark.sql.functions import count as sql_count, col, when\n",
    "tiny_airports = ['HOB', 'ROW', 'LWS', 'DLG', 'STC', 'MQT', 'CDV', 'IAG', 'BLI', 'RKS', 'ORH', 'LBE', 'SUN', 'SWF', 'ADQ', 'PUB', 'CNY', 'MTJ', 'ABY', 'WRG', 'MVY', 'SAF', 'PSG', 'PLN', 'LSE', 'WYS', 'DHN', 'GRI', 'CSG', 'GGG', 'AVP', 'RDD', 'PAH', 'VEL', 'JMS', 'DLH', 'OME', 'ILG', 'BQK', 'JLN', 'BTM', 'SMX', 'HDN', 'FAY', 'BRD', 'CWA', 'YAK', 'GCK', 'MMH', 'SUX', 'LAW', 'BPT', 'PPG', 'TOL', 'ACT', 'DAB', 'MHK', 'OTZ', 'SPS', 'BGM', 'HYS', 'SGU', 'ESC', 'UST', 'GUC', 'RHI', 'EGE', 'AKN', 'GCC', 'COD', 'CEC', 'BGR', 'ERI', 'BJI', 'SCC', 'PIB', 'TWF', 'GFK', 'DIK', 'AZO', 'EWN', 'MKG', 'ACK', 'PBG', 'PIH', 'MLB', 'CLD', 'ACV', 'FLG', 'DVL', 'HIB', 'LAR', 'GTR', 'OAJ', 'CDC', 'IMT', 'MBS', 'SIT', 'COU', 'GST', 'ALO', 'CIU', 'DBQ', 'ITH', 'HYA', 'APN', 'TXK', 'HLN', 'VLD', 'BET', 'EAU', 'CMX', 'SCE', 'EKO', 'PHF', 'ABR', 'ADK', 'INL', 'CPR', 'MEI', 'SJT', 'STX', 'OTH', 'SPI', 'BQN', 'BRW']  # Add all codes for 'tiny'\n",
    "\n",
    "small_airports = ['ISP', 'ECP', 'GNV', 'TYR', 'RAP', 'FSM', 'LNK', 'KTN', 'LAN', 'BTV', 'GTF', 'TRI', 'EYW', 'EVV', 'MGM', 'GJT', 'GRK', 'LCH', 'CRW', 'AGS', 'FAI', 'CHO', 'MLI', 'HSV', 'RST', 'CHA', 'YUM', 'ROA', 'MSO', 'SRQ', 'MFE', 'BIL', 'TLH', 'BRO', 'BIS', 'ASE', 'BMI', 'MOT', 'PSC', 'ATW', 'SBP', 'IDA', 'AVL', 'ISN', 'MFR', 'GPT', 'BFL', 'JAC', 'MRY', 'AMA', 'STT', 'ILM', 'DRO', 'CMI', 'ABE', 'TTN', 'ACY', 'MDT', 'AEX', 'LRD', 'HRL', 'SBN', 'RDM', 'BZN', 'FCA', 'ABI', 'EUG', 'JNU', 'ELM', 'TVC', 'CLL', 'MLU']  # Add all codes for 'small'\n",
    "\n",
    "large_airports = ['ANC', 'FAT', 'GEG', 'BDL', 'ONT', 'HPN', 'JAN', 'LEX', 'BTR', 'GSO', 'BUR', 'PWM', 'OGG', 'TUL', 'ELP', 'OKC', 'RNO', 'DAY', 'DSM', 'LIT', 'ABQ', 'CAK', 'FSD', 'BHM', 'PBI', 'MEM', 'FNT', 'SYR', 'LGB', 'MOB', 'PVD', 'CVG', 'BOI', 'PNS', 'KOA', 'ORF', 'SHV', 'PSP', 'CID', 'MHT', 'MAF', 'GRR', 'JAX', 'CRP', 'BUF', 'ALB', 'VPS', 'FWA', 'GRB', 'XNA', 'ICT', 'LFT', 'SAV', 'SBA', 'CHS', 'CAE', 'SDF', 'COS', 'SGF', 'MSN', 'RIC', 'TUS', 'LIH', 'LBB', 'TYS', 'MYR', 'FAR', 'ITO', 'GSP', 'SJU', 'OMA', 'ROC', 'PIA']\n",
    "\n",
    "unsure=['CGI', 'YNG', 'AZA', 'HTS', 'STS', 'LYH', 'EFD', 'OWB', 'OGD', 'ENV', 'FLO', 'SWO', 'BLV', 'PSM', 'IFP', 'PGV', 'BFF', 'TKI', 'SLN', 'SCK', 'PVU', 'PGD', 'HVN', 'UIN', 'PIE', 'HGR', 'LBF', 'LBL', 'OGS', 'SFB', 'SHD', 'RFD', 'PSE', 'LWB', 'CKB', 'USA', 'LCK']\n",
    "\n",
    "\n",
    "# Add a new column 'AirportSize' based on the ORIGIN code\n",
    "train_5yr_df = train_5yr_df.withColumn('AirportSize',\n",
    "                             when(col('ORIGIN').isin(tiny_airports), 'tiny')\n",
    "                             .when(col('ORIGIN').isin(small_airports), 'small')\n",
    "                             .when(col('ORIGIN').isin(large_airports), 'large')\n",
    "                             .when(col('ORIGIN').isin(unsure), 'unsure')\n",
    "                             .otherwise('huge'))\n",
    "\n",
    "test_blind_5yr_df = test_blind_5yr_df.withColumn('AirportSize',\n",
    "                             when(col('ORIGIN').isin(tiny_airports), 'tiny')\n",
    "                             .when(col('ORIGIN').isin(small_airports), 'small')\n",
    "                             .when(col('ORIGIN').isin(large_airports), 'large')\n",
    "                             .when(col('ORIGIN').isin(unsure), 'unsure')\n",
    "                             .otherwise('huge'))"
   ]
  },
  {
   "cell_type": "code",
   "execution_count": 0,
   "metadata": {
    "application/vnd.databricks.v1+cell": {
     "cellMetadata": {
      "byteLimit": 2048000,
      "rowLimit": 10000
     },
     "inputWidgets": {},
     "nuid": "260459f4-59a2-482d-b3a7-bd87001c8621",
     "showTitle": false,
     "title": ""
    }
   },
   "outputs": [
    {
     "output_type": "display_data",
     "data": {
      "text/html": [
       "<style scoped>\n",
       "  .table-result-container {\n",
       "    max-height: 300px;\n",
       "    overflow: auto;\n",
       "  }\n",
       "  table, th, td {\n",
       "    border: 1px solid black;\n",
       "    border-collapse: collapse;\n",
       "  }\n",
       "  th, td {\n",
       "    padding: 5px;\n",
       "  }\n",
       "  th {\n",
       "    text-align: left;\n",
       "  }\n",
       "</style><div class='table-result-container'><table class='table-result'><thead style='background-color: white'><tr><th>STATION</th><th>DATE</th><th>LATITUDE</th><th>ELEVATION</th><th>LONGITUDE</th><th>HourlyAltimeterSetting</th><th>HourlyDewPointTemperature</th><th>HourlyDryBulbTemperature</th><th>HourlyPrecipitation</th><th>HourlyPresentWeatherType</th><th>HourlyPressureChange</th><th>HourlyPressureTendency</th><th>HourlyRelativeHumidity</th><th>HourlySkyConditions</th><th>HourlySeaLevelPressure</th><th>HourlyStationPressure</th><th>HourlyVisibility</th><th>HourlyWetBulbTemperature</th><th>HourlyWindDirection</th><th>HourlyWindGustSpeed</th><th>HourlyWindSpeed</th><th>DAY_OF_MONTH</th><th>DAY_OF_WEEK</th><th>YEAR</th><th>FL_DATE</th><th>OP_CARRIER</th><th>ORIGIN</th><th>DEST</th><th>CRS_ARR_TIME</th><th>CRS_DEP_TIME</th><th>CRS_ELAPSED_TIME</th><th>DISTANCE</th><th>DEP_DEL15</th><th>QUARTER</th><th>MONTH</th><th>RecentHourlyPrecipitationDelta</th><th>RecentHourlyRelativeHumidityDelta</th><th>HolidayTravel</th><th>ORIGIN_DELAY_SUM</th><th>TAIL_NUM_PREV_DELAY</th><th>AirportSize</th></tr></thead><tbody><tr><td>72219013874</td><td>2015-01-01T07:52:00</td><td>33.6301</td><td>307.8</td><td>-84.4418</td><td>30.33</td><td>26</td><td>32</td><td>0.00</td><td>null</td><td>null</td><td>null</td><td>79</td><td>FEW:02 150 SCT:04 200 SCT:04 250</td><td>30.36</td><td>29.22</td><td>10.00</td><td>30</td><td>000</td><td>null</td><td>0</td><td>1</td><td>4</td><td>2015</td><td>2015-01-01</td><td>EV</td><td>ATL</td><td>IAD</td><td>725</td><td>540</td><td>105.0</td><td>534.0</td><td>1</td><td>1</td><td>1</td><td>null</td><td>null</td><td>0</td><td>null</td><td>null</td><td>huge</td></tr><tr><td>72219013874</td><td>2015-01-01T08:52:00</td><td>33.6301</td><td>307.8</td><td>-84.4418</td><td>30.33</td><td>28</td><td>37</td><td>0.00</td><td>null</td><td>null</td><td>null</td><td>70</td><td>FEW:02 150 SCT:04 200 SCT:04 250</td><td>30.35</td><td>29.22</td><td>10.00</td><td>33</td><td>000</td><td>null</td><td>0</td><td>1</td><td>4</td><td>2015</td><td>2015-01-01</td><td>F9</td><td>ATL</td><td>TTN</td><td>750</td><td>600</td><td>110.0</td><td>701.0</td><td>1</td><td>1</td><td>1</td><td>null</td><td>null</td><td>0</td><td>null</td><td>null</td><td>huge</td></tr><tr><td>72219013874</td><td>2015-01-01T08:52:00</td><td>33.6301</td><td>307.8</td><td>-84.4418</td><td>30.33</td><td>28</td><td>37</td><td>0.00</td><td>null</td><td>null</td><td>null</td><td>70</td><td>FEW:02 150 SCT:04 200 SCT:04 250</td><td>30.35</td><td>29.22</td><td>10.00</td><td>33</td><td>000</td><td>null</td><td>0</td><td>1</td><td>4</td><td>2015</td><td>2015-01-01</td><td>AA</td><td>ATL</td><td>DFW</td><td>755</td><td>625</td><td>150.0</td><td>731.0</td><td>null</td><td>1</td><td>1</td><td>null</td><td>null</td><td>0</td><td>null</td><td>null</td><td>huge</td></tr><tr><td>72219013874</td><td>2015-01-01T08:52:00</td><td>33.6301</td><td>307.8</td><td>-84.4418</td><td>30.33</td><td>28</td><td>37</td><td>0.00</td><td>null</td><td>null</td><td>null</td><td>70</td><td>FEW:02 150 SCT:04 200 SCT:04 250</td><td>30.35</td><td>29.22</td><td>10.00</td><td>33</td><td>000</td><td>null</td><td>0</td><td>1</td><td>4</td><td>2015</td><td>2015-01-01</td><td>DL</td><td>ATL</td><td>LGA</td><td>853</td><td>645</td><td>128.0</td><td>762.0</td><td>0</td><td>1</td><td>1</td><td>null</td><td>null</td><td>0</td><td>null</td><td>null</td><td>huge</td></tr><tr><td>72219013874</td><td>2015-01-01T08:52:00</td><td>33.6301</td><td>307.8</td><td>-84.4418</td><td>30.33</td><td>28</td><td>37</td><td>0.00</td><td>null</td><td>null</td><td>null</td><td>70</td><td>FEW:02 150 SCT:04 200 SCT:04 250</td><td>30.35</td><td>29.22</td><td>10.00</td><td>33</td><td>000</td><td>null</td><td>0</td><td>1</td><td>4</td><td>2015</td><td>2015-01-01</td><td>OO</td><td>ATL</td><td>IAH</td><td>802</td><td>646</td><td>136.0</td><td>689.0</td><td>0</td><td>1</td><td>1</td><td>null</td><td>null</td><td>0</td><td>null</td><td>null</td><td>huge</td></tr><tr><td>72219013874</td><td>2015-01-01T09:52:00</td><td>33.6301</td><td>307.8</td><td>-84.4418</td><td>30.34</td><td>27</td><td>43</td><td>0.00</td><td>null</td><td>-0.01</td><td>3</td><td>53</td><td>FEW:02 150 SCT:04 200 BKN:07 250</td><td>30.36</td><td>29.23</td><td>10.00</td><td>37</td><td>000</td><td>null</td><td>0</td><td>1</td><td>4</td><td>2015</td><td>2015-01-01</td><td>DL</td><td>ATL</td><td>MCO</td><td>822</td><td>655</td><td>87.0</td><td>404.0</td><td>0</td><td>1</td><td>1</td><td>null</td><td>null</td><td>0</td><td>null</td><td>null</td><td>huge</td></tr><tr><td>72219013874</td><td>2015-01-01T09:52:00</td><td>33.6301</td><td>307.8</td><td>-84.4418</td><td>30.34</td><td>27</td><td>43</td><td>0.00</td><td>null</td><td>-0.01</td><td>3</td><td>53</td><td>FEW:02 150 SCT:04 200 BKN:07 250</td><td>30.36</td><td>29.23</td><td>10.00</td><td>37</td><td>000</td><td>null</td><td>0</td><td>1</td><td>4</td><td>2015</td><td>2015-01-01</td><td>AA</td><td>ATL</td><td>MIA</td><td>852</td><td>700</td><td>112.0</td><td>594.0</td><td>0</td><td>1</td><td>1</td><td>null</td><td>null</td><td>0</td><td>null</td><td>null</td><td>huge</td></tr><tr><td>72219013874</td><td>2015-01-01T09:52:00</td><td>33.6301</td><td>307.8</td><td>-84.4418</td><td>30.34</td><td>27</td><td>43</td><td>0.00</td><td>null</td><td>-0.01</td><td>3</td><td>53</td><td>FEW:02 150 SCT:04 200 BKN:07 250</td><td>30.36</td><td>29.23</td><td>10.00</td><td>37</td><td>000</td><td>null</td><td>0</td><td>1</td><td>4</td><td>2015</td><td>2015-01-01</td><td>DL</td><td>ATL</td><td>SLC</td><td>940</td><td>720</td><td>260.0</td><td>1590.0</td><td>0</td><td>1</td><td>1</td><td>null</td><td>null</td><td>0</td><td>null</td><td>null</td><td>huge</td></tr><tr><td>72219013874</td><td>2015-01-01T09:52:00</td><td>33.6301</td><td>307.8</td><td>-84.4418</td><td>30.34</td><td>27</td><td>43</td><td>0.00</td><td>null</td><td>-0.01</td><td>3</td><td>53</td><td>FEW:02 150 SCT:04 200 BKN:07 250</td><td>30.36</td><td>29.23</td><td>10.00</td><td>37</td><td>000</td><td>null</td><td>0</td><td>1</td><td>4</td><td>2015</td><td>2015-01-01</td><td>WN</td><td>ATL</td><td>DAL</td><td>845</td><td>725</td><td>140.0</td><td>721.0</td><td>0</td><td>1</td><td>1</td><td>null</td><td>null</td><td>0</td><td>null</td><td>null</td><td>huge</td></tr><tr><td>72219013874</td><td>2015-01-01T09:52:00</td><td>33.6301</td><td>307.8</td><td>-84.4418</td><td>30.34</td><td>27</td><td>43</td><td>0.00</td><td>null</td><td>-0.01</td><td>3</td><td>53</td><td>FEW:02 150 SCT:04 200 BKN:07 250</td><td>30.36</td><td>29.23</td><td>10.00</td><td>37</td><td>000</td><td>null</td><td>0</td><td>1</td><td>4</td><td>2015</td><td>2015-01-01</td><td>UA</td><td>ATL</td><td>SFO</td><td>1004</td><td>729</td><td>335.0</td><td>2139.0</td><td>0</td><td>1</td><td>1</td><td>null</td><td>null</td><td>0</td><td>null</td><td>null</td><td>huge</td></tr></tbody></table></div>"
      ]
     },
     "metadata": {
      "application/vnd.databricks.v1+output": {
       "addedWidgets": {},
       "aggData": [],
       "aggError": "",
       "aggOverflow": false,
       "aggSchema": [],
       "aggSeriesLimitReached": false,
       "aggType": "",
       "arguments": {},
       "columnCustomDisplayInfos": {},
       "data": [
        [
         "72219013874",
         "2015-01-01T07:52:00",
         "33.6301",
         "307.8",
         "-84.4418",
         "30.33",
         "26",
         "32",
         "0.00",
         null,
         null,
         null,
         "79",
         "FEW:02 150 SCT:04 200 SCT:04 250",
         "30.36",
         "29.22",
         "10.00",
         "30",
         "000",
         null,
         "0",
         1,
         4,
         2015,
         "2015-01-01",
         "EV",
         "ATL",
         "IAD",
         725,
         540,
         105.0,
         534.0,
         1,
         1,
         1,
         null,
         null,
         0,
         null,
         null,
         "huge"
        ],
        [
         "72219013874",
         "2015-01-01T08:52:00",
         "33.6301",
         "307.8",
         "-84.4418",
         "30.33",
         "28",
         "37",
         "0.00",
         null,
         null,
         null,
         "70",
         "FEW:02 150 SCT:04 200 SCT:04 250",
         "30.35",
         "29.22",
         "10.00",
         "33",
         "000",
         null,
         "0",
         1,
         4,
         2015,
         "2015-01-01",
         "F9",
         "ATL",
         "TTN",
         750,
         600,
         110.0,
         701.0,
         1,
         1,
         1,
         null,
         null,
         0,
         null,
         null,
         "huge"
        ],
        [
         "72219013874",
         "2015-01-01T08:52:00",
         "33.6301",
         "307.8",
         "-84.4418",
         "30.33",
         "28",
         "37",
         "0.00",
         null,
         null,
         null,
         "70",
         "FEW:02 150 SCT:04 200 SCT:04 250",
         "30.35",
         "29.22",
         "10.00",
         "33",
         "000",
         null,
         "0",
         1,
         4,
         2015,
         "2015-01-01",
         "AA",
         "ATL",
         "DFW",
         755,
         625,
         150.0,
         731.0,
         null,
         1,
         1,
         null,
         null,
         0,
         null,
         null,
         "huge"
        ],
        [
         "72219013874",
         "2015-01-01T08:52:00",
         "33.6301",
         "307.8",
         "-84.4418",
         "30.33",
         "28",
         "37",
         "0.00",
         null,
         null,
         null,
         "70",
         "FEW:02 150 SCT:04 200 SCT:04 250",
         "30.35",
         "29.22",
         "10.00",
         "33",
         "000",
         null,
         "0",
         1,
         4,
         2015,
         "2015-01-01",
         "DL",
         "ATL",
         "LGA",
         853,
         645,
         128.0,
         762.0,
         0,
         1,
         1,
         null,
         null,
         0,
         null,
         null,
         "huge"
        ],
        [
         "72219013874",
         "2015-01-01T08:52:00",
         "33.6301",
         "307.8",
         "-84.4418",
         "30.33",
         "28",
         "37",
         "0.00",
         null,
         null,
         null,
         "70",
         "FEW:02 150 SCT:04 200 SCT:04 250",
         "30.35",
         "29.22",
         "10.00",
         "33",
         "000",
         null,
         "0",
         1,
         4,
         2015,
         "2015-01-01",
         "OO",
         "ATL",
         "IAH",
         802,
         646,
         136.0,
         689.0,
         0,
         1,
         1,
         null,
         null,
         0,
         null,
         null,
         "huge"
        ],
        [
         "72219013874",
         "2015-01-01T09:52:00",
         "33.6301",
         "307.8",
         "-84.4418",
         "30.34",
         "27",
         "43",
         "0.00",
         null,
         "-0.01",
         "3",
         "53",
         "FEW:02 150 SCT:04 200 BKN:07 250",
         "30.36",
         "29.23",
         "10.00",
         "37",
         "000",
         null,
         "0",
         1,
         4,
         2015,
         "2015-01-01",
         "DL",
         "ATL",
         "MCO",
         822,
         655,
         87.0,
         404.0,
         0,
         1,
         1,
         null,
         null,
         0,
         null,
         null,
         "huge"
        ],
        [
         "72219013874",
         "2015-01-01T09:52:00",
         "33.6301",
         "307.8",
         "-84.4418",
         "30.34",
         "27",
         "43",
         "0.00",
         null,
         "-0.01",
         "3",
         "53",
         "FEW:02 150 SCT:04 200 BKN:07 250",
         "30.36",
         "29.23",
         "10.00",
         "37",
         "000",
         null,
         "0",
         1,
         4,
         2015,
         "2015-01-01",
         "AA",
         "ATL",
         "MIA",
         852,
         700,
         112.0,
         594.0,
         0,
         1,
         1,
         null,
         null,
         0,
         null,
         null,
         "huge"
        ],
        [
         "72219013874",
         "2015-01-01T09:52:00",
         "33.6301",
         "307.8",
         "-84.4418",
         "30.34",
         "27",
         "43",
         "0.00",
         null,
         "-0.01",
         "3",
         "53",
         "FEW:02 150 SCT:04 200 BKN:07 250",
         "30.36",
         "29.23",
         "10.00",
         "37",
         "000",
         null,
         "0",
         1,
         4,
         2015,
         "2015-01-01",
         "DL",
         "ATL",
         "SLC",
         940,
         720,
         260.0,
         1590.0,
         0,
         1,
         1,
         null,
         null,
         0,
         null,
         null,
         "huge"
        ],
        [
         "72219013874",
         "2015-01-01T09:52:00",
         "33.6301",
         "307.8",
         "-84.4418",
         "30.34",
         "27",
         "43",
         "0.00",
         null,
         "-0.01",
         "3",
         "53",
         "FEW:02 150 SCT:04 200 BKN:07 250",
         "30.36",
         "29.23",
         "10.00",
         "37",
         "000",
         null,
         "0",
         1,
         4,
         2015,
         "2015-01-01",
         "WN",
         "ATL",
         "DAL",
         845,
         725,
         140.0,
         721.0,
         0,
         1,
         1,
         null,
         null,
         0,
         null,
         null,
         "huge"
        ],
        [
         "72219013874",
         "2015-01-01T09:52:00",
         "33.6301",
         "307.8",
         "-84.4418",
         "30.34",
         "27",
         "43",
         "0.00",
         null,
         "-0.01",
         "3",
         "53",
         "FEW:02 150 SCT:04 200 BKN:07 250",
         "30.36",
         "29.23",
         "10.00",
         "37",
         "000",
         null,
         "0",
         1,
         4,
         2015,
         "2015-01-01",
         "UA",
         "ATL",
         "SFO",
         1004,
         729,
         335.0,
         2139.0,
         0,
         1,
         1,
         null,
         null,
         0,
         null,
         null,
         "huge"
        ]
       ],
       "datasetInfos": [],
       "dbfsResultPath": null,
       "isJsonSchema": true,
       "metadata": {},
       "overflow": false,
       "plotOptions": {
        "customPlotOptions": {},
        "displayType": "table",
        "pivotAggregation": null,
        "pivotColumns": null,
        "xColumns": null,
        "yColumns": null
       },
       "removedWidgets": [],
       "schema": [
        {
         "metadata": "{}",
         "name": "STATION",
         "type": "\"string\""
        },
        {
         "metadata": "{}",
         "name": "DATE",
         "type": "\"string\""
        },
        {
         "metadata": "{}",
         "name": "LATITUDE",
         "type": "\"string\""
        },
        {
         "metadata": "{}",
         "name": "ELEVATION",
         "type": "\"string\""
        },
        {
         "metadata": "{}",
         "name": "LONGITUDE",
         "type": "\"string\""
        },
        {
         "metadata": "{}",
         "name": "HourlyAltimeterSetting",
         "type": "\"string\""
        },
        {
         "metadata": "{}",
         "name": "HourlyDewPointTemperature",
         "type": "\"string\""
        },
        {
         "metadata": "{}",
         "name": "HourlyDryBulbTemperature",
         "type": "\"string\""
        },
        {
         "metadata": "{}",
         "name": "HourlyPrecipitation",
         "type": "\"string\""
        },
        {
         "metadata": "{}",
         "name": "HourlyPresentWeatherType",
         "type": "\"string\""
        },
        {
         "metadata": "{}",
         "name": "HourlyPressureChange",
         "type": "\"string\""
        },
        {
         "metadata": "{}",
         "name": "HourlyPressureTendency",
         "type": "\"string\""
        },
        {
         "metadata": "{}",
         "name": "HourlyRelativeHumidity",
         "type": "\"string\""
        },
        {
         "metadata": "{}",
         "name": "HourlySkyConditions",
         "type": "\"string\""
        },
        {
         "metadata": "{}",
         "name": "HourlySeaLevelPressure",
         "type": "\"string\""
        },
        {
         "metadata": "{}",
         "name": "HourlyStationPressure",
         "type": "\"string\""
        },
        {
         "metadata": "{}",
         "name": "HourlyVisibility",
         "type": "\"string\""
        },
        {
         "metadata": "{}",
         "name": "HourlyWetBulbTemperature",
         "type": "\"string\""
        },
        {
         "metadata": "{}",
         "name": "HourlyWindDirection",
         "type": "\"string\""
        },
        {
         "metadata": "{}",
         "name": "HourlyWindGustSpeed",
         "type": "\"string\""
        },
        {
         "metadata": "{}",
         "name": "HourlyWindSpeed",
         "type": "\"string\""
        },
        {
         "metadata": "{}",
         "name": "DAY_OF_MONTH",
         "type": "\"integer\""
        },
        {
         "metadata": "{}",
         "name": "DAY_OF_WEEK",
         "type": "\"integer\""
        },
        {
         "metadata": "{}",
         "name": "YEAR",
         "type": "\"integer\""
        },
        {
         "metadata": "{}",
         "name": "FL_DATE",
         "type": "\"string\""
        },
        {
         "metadata": "{}",
         "name": "OP_CARRIER",
         "type": "\"string\""
        },
        {
         "metadata": "{}",
         "name": "ORIGIN",
         "type": "\"string\""
        },
        {
         "metadata": "{}",
         "name": "DEST",
         "type": "\"string\""
        },
        {
         "metadata": "{}",
         "name": "CRS_ARR_TIME",
         "type": "\"integer\""
        },
        {
         "metadata": "{}",
         "name": "CRS_DEP_TIME",
         "type": "\"integer\""
        },
        {
         "metadata": "{}",
         "name": "CRS_ELAPSED_TIME",
         "type": "\"double\""
        },
        {
         "metadata": "{}",
         "name": "DISTANCE",
         "type": "\"double\""
        },
        {
         "metadata": "{}",
         "name": "DEP_DEL15",
         "type": "\"integer\""
        },
        {
         "metadata": "{}",
         "name": "QUARTER",
         "type": "\"integer\""
        },
        {
         "metadata": "{}",
         "name": "MONTH",
         "type": "\"integer\""
        },
        {
         "metadata": "{}",
         "name": "RecentHourlyPrecipitationDelta",
         "type": "\"double\""
        },
        {
         "metadata": "{}",
         "name": "RecentHourlyRelativeHumidityDelta",
         "type": "\"double\""
        },
        {
         "metadata": "{}",
         "name": "HolidayTravel",
         "type": "\"integer\""
        },
        {
         "metadata": "{}",
         "name": "ORIGIN_DELAY_SUM",
         "type": "\"double\""
        },
        {
         "metadata": "{}",
         "name": "TAIL_NUM_PREV_DELAY",
         "type": "\"double\""
        },
        {
         "metadata": "{}",
         "name": "AirportSize",
         "type": "\"string\""
        }
       ],
       "type": "table"
      }
     },
     "output_type": "display_data"
    }
   ],
   "source": [
    "display(train_5yr_df.limit(10))"
   ]
  },
  {
   "cell_type": "markdown",
   "metadata": {
    "application/vnd.databricks.v1+cell": {
     "cellMetadata": {
      "byteLimit": 2048000,
      "rowLimit": 10000
     },
     "inputWidgets": {},
     "nuid": "54090417-f601-4608-bb8e-da92640e3106",
     "showTitle": false,
     "title": ""
    }
   },
   "source": [
    "#### 3. balance classes"
   ]
  },
  {
   "cell_type": "markdown",
   "metadata": {
    "application/vnd.databricks.v1+cell": {
     "cellMetadata": {},
     "inputWidgets": {},
     "nuid": "58cee69d-e9d8-438d-95ea-773476f7cacf",
     "showTitle": false,
     "title": ""
    }
   },
   "source": [
    "#### 4. RandomForest pipeline"
   ]
  },
  {
   "cell_type": "markdown",
   "metadata": {
    "application/vnd.databricks.v1+cell": {
     "cellMetadata": {},
     "inputWidgets": {},
     "nuid": "94f0e6c4-4614-4b0d-8a3b-872002bcc86c",
     "showTitle": false,
     "title": ""
    }
   },
   "source": [
    "\n",
    "##### 4b. Model Finetuning with grid-search"
   ]
  },
  {
   "cell_type": "code",
   "execution_count": 0,
   "metadata": {
    "application/vnd.databricks.v1+cell": {
     "cellMetadata": {
      "byteLimit": 2048000,
      "rowLimit": 10000
     },
     "inputWidgets": {},
     "nuid": "2580136d-4283-4679-b373-a023cde6e5e3",
     "showTitle": false,
     "title": ""
    }
   },
   "outputs": [
    {
     "output_type": "stream",
     "name": "stdout",
     "output_type": "stream",
     "text": [
      "\nfor hyper_params: \n{'maxBins': 32, 'numTrees': 5, 'maxDepth': 3}\nAttempting evaluation\nCompleted evaluation\n\nfor hyper_params: \n{'maxBins': 32, 'numTrees': 5, 'maxDepth': 7}\nAttempting evaluation\nCompleted evaluation\n\nfor hyper_params: \n{'maxBins': 32, 'numTrees': 10, 'maxDepth': 3}\nAttempting evaluation\nCompleted evaluation\n\nfor hyper_params: \n{'maxBins': 32, 'numTrees': 10, 'maxDepth': 7}\nAttempting evaluation\nCompleted evaluation\n\nfor hyper_params: \n{'maxBins': 64, 'numTrees': 5, 'maxDepth': 3}\nAttempting evaluation\nCompleted evaluation\n\nfor hyper_params: \n{'maxBins': 64, 'numTrees': 5, 'maxDepth': 7}\nAttempting evaluation\nCompleted evaluation\n\nfor hyper_params: \n{'maxBins': 64, 'numTrees': 10, 'maxDepth': 3}\nAttempting evaluation\nCompleted evaluation\n\nfor hyper_params: \n{'maxBins': 64, 'numTrees': 10, 'maxDepth': 7}\nAttempting evaluation\nCompleted evaluation\nBest Model Parameters: {Param(parent='undefined', name='maxBins', doc='Max number of bins for discretizing continuous features.  Must be >=2 and >= number of categories for any categorical feature.'): 32, Param(parent='undefined', name='numTrees', doc='Number of trees to train (>= 1).'): 5, Param(parent='undefined', name='maxDepth', doc='Maximum depth of the tree. (>= 0) E.g., depth 0 means 1 leaf node; depth 1 means 1 internal node + 2 leaf nodes. Must be in range [0, 30].'): 3}\nBest Model Evaluation: {'train': {'precision': 0.7289069427920825, 'recall': 0.6171453074996741, 'f2': 0.6342338249048753}, 'val': {'precision': 0.8486385024638712, 'recall': 0.7846509078599663, 'f2': 0.718743713933964}}\n"
     ]
    }
   ],
   "source": [
    "from pyspark.ml.tuning import ParamGridBuilder\n",
    " \n",
    "\n",
    "rf = RandomForestClassifier(featuresCol=\"scaledFeatures\", labelCol=\"DEP_DEL15\")\n",
    "\n",
    "dummy_rfc = RandomForestClassifier(\n",
    "    featuresCol=\"scaledFeatures\", labelCol=\"DEP_DEL15\", seed=random_seed\n",
    ")\n",
    "param_grid_rfc = (\n",
    "    ParamGridBuilder()\n",
    "    .addGrid(RandomForestClassifier.maxBins, [32, 64]) \\\n",
    "    .addGrid(RandomForestClassifier.numTrees, [5, 10]) \\\n",
    "    .addGrid(RandomForestClassifier.maxDepth, [3, 7]) \\\n",
    "    .build()\n",
    ")\n",
    "\n",
    "from pyspark.ml.classification import RandomForestClassifier\n",
    "\n",
    "best_hyper_params, best_metrics, results = grid_search(\n",
    "    RandomForestClassifier,  # model class\n",
    "    param_grid_rfc,              # parameter grid\n",
    "    train_5yr_df,\n",
    "    cv_folds=4\n",
    ")"
   ]
  },
  {
   "cell_type": "markdown",
   "metadata": {
    "application/vnd.databricks.v1+cell": {
     "cellMetadata": {},
     "inputWidgets": {},
     "nuid": "359a4c7a-2b9c-4da0-b976-f02c20ad655c",
     "showTitle": false,
     "title": ""
    }
   },
   "source": [
    "\n",
    "##### 4c. Finetuned model eval on 2018 data"
   ]
  },
  {
   "cell_type": "code",
   "execution_count": 0,
   "metadata": {
    "application/vnd.databricks.v1+cell": {
     "cellMetadata": {
      "byteLimit": 2048000,
      "rowLimit": 10000
     },
     "inputWidgets": {},
     "nuid": "41dca4bb-a535-4485-be6a-f6d6aab79761",
     "showTitle": false,
     "title": ""
    }
   },
   "outputs": [],
   "source": [
    "from pyspark.ml.classification import RandomForestClassifier\n",
    "\n",
    "# Set the best parameters in the RandomForestClassifier\n",
    "rf_best = RandomForestClassifier(featuresCol=\"scaledFeatures\", \n",
    "                            labelCol=\"DEP_DEL15\", \n",
    "                            maxBins=100, \n",
    "                            numTrees=5, \n",
    "                            maxDepth=15)"
   ]
  },
  {
   "cell_type": "code",
   "execution_count": 0,
   "metadata": {
    "application/vnd.databricks.v1+cell": {
     "cellMetadata": {
      "byteLimit": 2048000,
      "rowLimit": 10000
     },
     "inputWidgets": {},
     "nuid": "895bdde3-9c5e-4a44-9bee-06970df6e721",
     "showTitle": false,
     "title": ""
    }
   },
   "outputs": [
    {
     "output_type": "stream",
     "name": "stdout",
     "output_type": "stream",
     "text": [
      "Evaluation Metrics: {'precision': 0.8752550807985665, 'recall': 0.6097212601432628, 'f2': 0.6491048562172768}\n"
     ]
    }
   ],
   "source": [
    "from pyspark.ml.classification import RandomForestClassifier\n",
    "\n",
    "# Set the best parameters in the RandomForestClassifier\n",
    "rf_best = RandomForestClassifier(featuresCol=\"scaledFeatures\", \n",
    "                            labelCol=\"DEP_DEL15\", \n",
    "                            maxBins=100, \n",
    "                            numTrees=5, \n",
    "                            maxDepth=15)\n",
    "\n",
    "\n",
    "pipeline = build_pipeline(rf_best)\n",
    "\n",
    "# downsample train data\n",
    "order_by_cols = [\"DATE\", \"CRS_DEP_TIME\"]\n",
    "train = downsample_majority_class(train_5yr_df, \"DEP_DEL15\", 0, 1, order_by_cols, random_seed)\n",
    "val = test_blind_5yr_df\n",
    "#mean_encoding\n",
    "train, val, mapper = mean_encoding(train, val, cat_cols)\n",
    "\n",
    "# cast columns\n",
    "train = cast_columns(train, float_cols, cat_cols, cat_cols_mean, float_cols_no_y)\n",
    "val = cast_columns(val, float_cols, cat_cols,cat_cols_mean, float_cols_no_y)\n",
    "\n",
    "# create interactions\n",
    "train = create_interactions(train)\n",
    "val = create_interactions(val)\n",
    "\n",
    "\n",
    "# Fit the pipeline to the training data\n",
    "model = pipeline.fit(train)\n",
    "\n",
    "# Make predictions on the validation set\n",
    "predictions = model.transform(val)\n",
    "\n",
    "# Evaluate the model using your custom evaluation function\n",
    "evaluation_metrics = evaluate(predictions)\n",
    "\n",
    "# Print the evaluation metrics\n",
    "print(\"Evaluation Metrics:\", evaluation_metrics)\n",
    "\n",
    "# Extract the RandomForest model from the pipeline\n",
    "rf_model = model.stages[-1] \n",
    "\n",
    "# Get feature importances\n",
    "importances = rf_model.featureImportances\n",
    "\n"
   ]
  },
  {
   "cell_type": "markdown",
   "metadata": {
    "application/vnd.databricks.v1+cell": {
     "cellMetadata": {},
     "inputWidgets": {},
     "nuid": "1aec0c52-5ed5-4778-9f71-42729aa274a6",
     "showTitle": false,
     "title": ""
    }
   },
   "source": [
    "\n",
    "### 4d. analysis of feature importance"
   ]
  },
  {
   "cell_type": "code",
   "execution_count": 0,
   "metadata": {
    "application/vnd.databricks.v1+cell": {
     "cellMetadata": {
      "byteLimit": 2048000,
      "rowLimit": 10000
     },
     "inputWidgets": {},
     "nuid": "b9bae150-7347-409b-bccd-3cc8e092cb2d",
     "showTitle": false,
     "title": ""
    }
   },
   "outputs": [],
   "source": [
    "assembler = [stage for stage in model.stages if isinstance(stage, VectorAssembler)][0]"
   ]
  },
  {
   "cell_type": "code",
   "execution_count": 0,
   "metadata": {
    "application/vnd.databricks.v1+cell": {
     "cellMetadata": {
      "byteLimit": 2048000,
      "rowLimit": 10000
     },
     "inputWidgets": {},
     "nuid": "eac480ea-3534-4653-98b2-81c59990d5d0",
     "showTitle": false,
     "title": ""
    }
   },
   "outputs": [
    {
     "output_type": "stream",
     "name": "stdout",
     "output_type": "stream",
     "text": [
      "Feature: Carrier_CRS_DEP_TIME, Importance: 0.37607869413481637\nFeature: Origin_CRS_DEP_TIME, Importance: 0.16235424819471167\nFeature: TAIL_NUM_PREV_DELAY, Importance: 0.060750948425244165\nFeature: OP_CARRIER_mean, Importance: 0.045179601719206576\nFeature: ORIGIN_DELAY_SUM, Importance: 0.04259633035896489\nFeature: DEST_mean, Importance: 0.03295979358421199\nFeature: ORIGIN_mean, Importance: 0.025085984661393945\nFeature: CRS_DEP_TIME, Importance: 0.02479471050771934\nFeature: HourlyRelativeHumidity, Importance: 0.023385730432489676\nFeature: CRS_ARR_TIME, Importance: 0.022389866292051027\nFeature: MONTH, Importance: 0.017885830841879207\nFeature: LONGITUDE, Importance: 0.013621744328048548\nFeature: STATION_mean, Importance: 0.013430338519917743\nFeature: Humidity_Temperature, Importance: 0.011409261923828032\nFeature: HourlyDryBulbTemperature, Importance: 0.010959095965721899\nFeature: HourlyWetBulbTemperature, Importance: 0.010627897591181686\nFeature: DewPoint_Humidity, Importance: 0.010342658279327132\nFeature: Month_CRS_DEP_TIME, Importance: 0.008422595113567317\nFeature: Precipitation_WetBulbTemp, Importance: 0.007210326293121472\nFeature: HourlyDewPointTemperature, Importance: 0.006790509720152841\nFeature: DATE, Importance: 0.0058934579358751946\nFeature: Temperature_Month, Importance: 0.004738886372179186\nFeature: HourlyPrecipitation, Importance: 0.004243655872369873\nFeature: Precipitation_Carrier, Importance: 0.00414274855208257\nFeature: ELEVATION, Importance: 0.003992350086777595\nFeature: LATITUDE, Importance: 0.003793204209392254\nFeature: FL_DATE, Importance: 0.0036434184548600032\nFeature: HolidayTravel_mean, Importance: 0.0031741247725795272\nFeature: Visibility_SkyConditions, Importance: 0.003020083187851569\nFeature: HourlyVisibility, Importance: 0.002812720903530507\nFeature: CRS_ELAPSED_TIME, Importance: 0.002476974928106939\nFeature: WindSpeed_Origin, Importance: 0.0024089195748083604\nFeature: DISTANCE, Importance: 0.0023856083105459574\nFeature: SeaLevel_StationPressure, Importance: 0.002330184827622915\nFeature: Visibility_OriginAirport, Importance: 0.0022746417810022086\nFeature: PressureTendency_Altimeter, Importance: 0.0019133110870608184\nFeature: HourlySeaLevelPressure, Importance: 0.0019060754984199062\nFeature: Precipitation_at_DepTime_and_Origin, Importance: 0.0018612648271145366\nFeature: QUARTER, Importance: 0.001679598300817979\nFeature: HourlyAltimeterSetting, Importance: 0.0015732250631234328\nFeature: DayOfWeek_CRS_DEP_TIME, Importance: 0.001446858515891668\nFeature: HourlySkyConditions, Importance: 0.001403432140161959\nFeature: HourlyStationPressure, Importance: 0.0013439807717726246\nFeature: HourlyWindDirection, Importance: 0.0011061343240404912\nFeature: DAY_OF_MONTH, Importance: 0.001087430520016881\nFeature: HourlyWindGustSpeed, Importance: 0.0008979864407017774\nFeature: Carrier_DayOfWeek, Importance: 0.000894431249995733\nFeature: PressureChange_DewPoint, Importance: 0.0007887033312780648\nFeature: WindDir_GustSpeed, Importance: 0.000697461606550575\nFeature: HourlyPressureChange, Importance: 0.0006559034801091703\nFeature: RecentHourlyRelativeHumidityDelta, Importance: 0.0005526877311614829\nFeature: DAY_OF_WEEK, Importance: 0.0005300406822057174\nFeature: HourlyWindSpeed, Importance: 0.0004481574464912486\nFeature: Temp_WindSpeed, Importance: 0.00042971281324836314\nFeature: YEAR, Importance: 0.00040871492728092757\nFeature: RecentHourlyPrecipitationDelta, Importance: 0.0003287129554536111\nFeature: WindSpeed_Visibility, Importance: 0.0002250227163722382\nFeature: HourlyPressureTendency, Importance: 0.00021400691359090167\nFeature: HourlyPresentWeatherType, Importance: 0.0\n"
     ]
    }
   ],
   "source": [
    "assembler = [stage for stage in model.stages if isinstance(stage, VectorAssembler)][0]\n",
    "\n",
    "feature_names = assembler.getInputCols()\n",
    "\n",
    "# Match feature names with their importances\n",
    "feature_importances = [(feature, importance) for feature, importance in zip(feature_names, importances)]\n",
    "\n",
    "# Sort and display top features\n",
    "sorted_features = sorted(feature_importances, key=lambda x: x[1], reverse=True)\n",
    "for feature, importance in sorted_features:\n",
    "    print(f\"Feature: {feature}, Importance: {importance}\")"
   ]
  }
 ],
 "metadata": {
  "application/vnd.databricks.v1+notebook": {
   "dashboards": [],
   "language": "python",
   "notebookMetadata": {
    "pythonIndentUnit": 4
   },
   "notebookName": "phase_3_pipeline_RF",
   "widgets": {}
  }
 },
 "nbformat": 4,
 "nbformat_minor": 0
}
